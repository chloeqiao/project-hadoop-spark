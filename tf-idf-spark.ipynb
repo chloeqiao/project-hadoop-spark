{
 "cells": [
  {
   "cell_type": "markdown",
   "metadata": {},
   "source": [
    "### Document Generaion\n",
    "We download the text file 5000-8.txt from Dropbox provided in the lecture."
   ]
  },
  {
   "cell_type": "code",
   "execution_count": null,
   "metadata": {
    "collapsed": true
   },
   "outputs": [],
   "source": [
    "# hadoop\n",
    "\n",
    "wget https://www.dropbox.com/s/2f3nt4rn7t4wee1/5000-8.txt\n",
    "\n",
    "hdfs dfs -mkdir /user/hadoop/proj\n",
    "\n",
    "hdfs dfs -mkdir /user/hadoop/proj/raw\n",
    "\n",
    "hdfs dfs -put 5000-8.txt /user/hadoop/proj/raw\n",
    "\n",
    "hdfs dfs -mkdir /user/hadoop/proj/input"
   ]
  },
  {
   "cell_type": "markdown",
   "metadata": {},
   "source": [
    "### Document preparation\n",
    "We split the text into words using regex and count the word occurrence in the documents."
   ]
  },
  {
   "cell_type": "code",
   "execution_count": null,
   "metadata": {
    "collapsed": true
   },
   "outputs": [],
   "source": [
    "# spark \n",
    "# generate 5 text files\n",
    "\n",
    "doc = sc.textFile(\"hdfs:///user/hadoop/proj/raw/5000-8.txt\")\n",
    "\n",
    "# take 100 lines from the text, without replacement\n",
    "doc = doc.takeSample(False, 100, 1)\n",
    "doc = sc.parallelize(doc)\n",
    "import re\n",
    "\n",
    "def process(doc):\n",
    "    doc = doc.lower()\n",
    "    clean_doc = re.split(\"\\\\W+|_\",doc)\n",
    "    return filter(None,clean_doc)\n",
    "\n",
    "vocab = doc.flatMap(lambda x: process(x))"
   ]
  },
  {
   "cell_type": "code",
   "execution_count": null,
   "metadata": {
    "collapsed": true
   },
   "outputs": [],
   "source": [
    "# to test the scalability, we set the five documents with different size\n",
    "# (100, 200, 400, 800, 1600 lines each) \n",
    "t1 = vocab.takeSample(True, 100, 1)\n",
    "t2 = vocab.takeSample(True, 200, 2)\n",
    "t3 = vocab.takeSample(True, 400, 3)\n",
    "t4 = vocab.takeSample(True, 800, 4)\n",
    "t5 = vocab.takeSample(True, 1600, 5)"
   ]
  },
  {
   "cell_type": "code",
   "execution_count": null,
   "metadata": {
    "collapsed": true
   },
   "outputs": [],
   "source": [
    "sc.parallelize(t1).repartition(1).saveAsTextFile(\"hdfs:///user/hadoop/proj/t1.6\")\n",
    "\n",
    "sc.parallelize(t2).repartition(1).saveAsTextFile(\"hdfs:///user/hadoop/proj/t2.6\")\n",
    "\n",
    "sc.parallelize(t3).repartition(1).saveAsTextFile(\"hdfs:///user/hadoop/proj/t3.6\")\n",
    "\n",
    "sc.parallelize(t4).repartition(1).saveAsTextFile(\"hdfs:///user/hadoop/proj/t4.6\")\n",
    "\n",
    "sc.parallelize(t5).repartition(1).saveAsTextFile(\"hdfs:///user/hadoop/proj/t5.6\")\n",
    "\n",
    "exit()"
   ]
  },
  {
   "cell_type": "code",
   "execution_count": null,
   "metadata": {
    "collapsed": true
   },
   "outputs": [],
   "source": [
    "# hadoop\n",
    "\n",
    "hdfs dfs -mv /user/hadoop/proj/t1.6/part-00000 /user/hadoop/proj/input/d1.txt\n",
    "\n",
    "hdfs dfs -mv /user/hadoop/proj/t2.6/part-00000 /user/hadoop/proj/input/d2.txt\n",
    "\n",
    "hdfs dfs -mv /user/hadoop/proj/t3.6/part-00000 /user/hadoop/proj/input/d3.txt\n",
    "\n",
    "hdfs dfs -mv /user/hadoop/proj/t4.6/part-00000 /user/hadoop/proj/input/d4.txt\n",
    "\n",
    "hdfs dfs -mv /user/hadoop/proj/t5.6/part-00000 /user/hadoop/proj/input/d5.txt"
   ]
  },
  {
   "cell_type": "markdown",
   "metadata": {},
   "source": [
    "### Compute the term frequency, document size and document frequency in Spark"
   ]
  },
  {
   "cell_type": "code",
   "execution_count": null,
   "metadata": {
    "collapsed": true
   },
   "outputs": [],
   "source": [
    "# take all the text files in the folder\n",
    "texts = sc.wholeTextFiles(\"hdfs:///user/hadoop/proj/input/\")\n",
    "\n",
    "# count the number of files\n",
    "num_of_sets = texts.count()\n",
    "\n",
    "# take the file name from the directory \n",
    "terms = texts.map(lambda (k, v): (k.split(\"/\")[-1],v.strip().split()))\n",
    "\n",
    "# for each word in each file count the frequency\n",
    "term_occur = terms.flatMapValues(lambda x: x).countByValue()\n",
    "\n",
    "# count the number of words for each file\n",
    "term_size = terms.flatMapValues(lambda x: x).countByKey()\n",
    "\n",
    "# count the number of files containing the word\n",
    "doc_freq = terms.flatMapValues(lambda x: x).distinct().map(lambda (k,v): (v,k)).countByKey()"
   ]
  },
  {
   "cell_type": "markdown",
   "metadata": {},
   "source": [
    "### Compute TF-IDF\n",
    "We define a function that takes document number, Term Frequencies & Document Frequencies and returns TF-IDF scores."
   ]
  },
  {
   "cell_type": "code",
   "execution_count": null,
   "metadata": {
    "collapsed": true
   },
   "outputs": [],
   "source": [
    "import numpy as np\n",
    "\n",
    "# define the function to calculate the tf_idf score\n",
    "def tf_idf(num_of_sets, term_occur, term_size, doc_freq):\n",
    "    result = []\n",
    "    for key, value in term_occur.items():\n",
    "        file = key[0]\n",
    "        term = key[1]\n",
    "        total = term_size[file]\n",
    "        df = doc_freq[term]\n",
    "        \n",
    "        # we multiplied by 100000 because the value is very small\n",
    "        # otherwise it returns all 0. \n",
    "        tf_idf = float(value*100000/total)*np.log(num_of_sets/df)\n",
    "        result.append((term,file,tf_idf))\n",
    "    return result\n",
    "\n",
    "tfidf = tf_idf(num_of_sets, term_occur, term_size, doc_freq)"
   ]
  }
 ],
 "metadata": {
  "kernelspec": {
   "display_name": "Python 3",
   "language": "python",
   "name": "python3"
  },
  "language_info": {
   "codemirror_mode": {
    "name": "ipython",
    "version": 3
   },
   "file_extension": ".py",
   "mimetype": "text/x-python",
   "name": "python",
   "nbconvert_exporter": "python",
   "pygments_lexer": "ipython3",
   "version": "3.6.3"
  }
 },
 "nbformat": 4,
 "nbformat_minor": 2
}
